{
 "cells": [
  {
   "cell_type": "code",
   "execution_count": 10,
   "id": "29bf7769",
   "metadata": {},
   "outputs": [],
   "source": [
    "import pandas as pd\n",
    "import json\n",
    "import numpy as np\n",
    "import sqlite3 as sq"
   ]
  },
  {
   "cell_type": "code",
   "execution_count": 3,
   "id": "c276af91",
   "metadata": {},
   "outputs": [],
   "source": [
    "# This creates a new database and connection if the db doesn't exist\n",
    "con = sq.connect('movies.db')"
   ]
  },
  {
   "cell_type": "code",
   "execution_count": 4,
   "id": "d032c18b",
   "metadata": {},
   "outputs": [
    {
     "data": {
      "text/plain": [
       "<sqlite3.Connection at 0x7fe8f8deec60>"
      ]
     },
     "execution_count": 4,
     "metadata": {},
     "output_type": "execute_result"
    }
   ],
   "source": [
    "con"
   ]
  },
  {
   "cell_type": "code",
   "execution_count": 7,
   "id": "5292b1bd",
   "metadata": {},
   "outputs": [
    {
     "data": {
      "text/plain": [
       "[]"
      ]
     },
     "execution_count": 7,
     "metadata": {},
     "output_type": "execute_result"
    }
   ],
   "source": [
    "# Pull table data from sqlite_master\n",
    "con.execute('select * from sqlite_master').fetchall()\n",
    "con.execute(\"select name from sqlite_master where type='table' order by name\").fetchall()"
   ]
  },
  {
   "cell_type": "code",
   "execution_count": 8,
   "id": "0df89116",
   "metadata": {},
   "outputs": [],
   "source": [
    "# Close Database\n",
    "con.close()"
   ]
  },
  {
   "cell_type": "code",
   "execution_count": 14,
   "id": "ea04073c",
   "metadata": {},
   "outputs": [
    {
     "data": {
      "text/html": [
       "<div>\n",
       "<style scoped>\n",
       "    .dataframe tbody tr th:only-of-type {\n",
       "        vertical-align: middle;\n",
       "    }\n",
       "\n",
       "    .dataframe tbody tr th {\n",
       "        vertical-align: top;\n",
       "    }\n",
       "\n",
       "    .dataframe thead th {\n",
       "        text-align: right;\n",
       "    }\n",
       "</style>\n",
       "<table border=\"1\" class=\"dataframe\">\n",
       "  <thead>\n",
       "    <tr style=\"text-align: right;\">\n",
       "      <th></th>\n",
       "      <th>adult</th>\n",
       "      <th>backdrop_path</th>\n",
       "      <th>budget</th>\n",
       "      <th>genres</th>\n",
       "      <th>homepage</th>\n",
       "      <th>id</th>\n",
       "      <th>imdb_id</th>\n",
       "      <th>original_language</th>\n",
       "      <th>original_title</th>\n",
       "      <th>overview</th>\n",
       "      <th>...</th>\n",
       "      <th>tagline</th>\n",
       "      <th>title</th>\n",
       "      <th>video</th>\n",
       "      <th>vote_average</th>\n",
       "      <th>vote_count</th>\n",
       "      <th>belongs_to_collection_id</th>\n",
       "      <th>belongs_to_collection_name</th>\n",
       "      <th>belongs_to_collection_poster_path</th>\n",
       "      <th>belongs_to_collection_backdrop_path</th>\n",
       "      <th>belongs_to_collection</th>\n",
       "    </tr>\n",
       "  </thead>\n",
       "  <tbody>\n",
       "    <tr>\n",
       "      <th>0</th>\n",
       "      <td>False</td>\n",
       "      <td>/orjiB3oUIsyz60hoEqkiGpy5CeO.jpg</td>\n",
       "      <td>356000000</td>\n",
       "      <td>[{'id': 12, 'name': 'Adventure'}, {'id': 878, ...</td>\n",
       "      <td>https://www.marvel.com/movies/avengers-endgame</td>\n",
       "      <td>299534</td>\n",
       "      <td>tt4154796</td>\n",
       "      <td>en</td>\n",
       "      <td>Avengers: Endgame</td>\n",
       "      <td>After the devastating events of Avengers: Infi...</td>\n",
       "      <td>...</td>\n",
       "      <td>Part of the journey is the end.</td>\n",
       "      <td>Avengers: Endgame</td>\n",
       "      <td>False</td>\n",
       "      <td>8.3</td>\n",
       "      <td>12607</td>\n",
       "      <td>86311.0</td>\n",
       "      <td>The Avengers Collection</td>\n",
       "      <td>/yFSIUVTCvgYrpalUktulvk3Gi5Y.jpg</td>\n",
       "      <td>/zuW6fOiusv4X9nnW3paHGfXcSll.jpg</td>\n",
       "      <td>NaN</td>\n",
       "    </tr>\n",
       "    <tr>\n",
       "      <th>1</th>\n",
       "      <td>False</td>\n",
       "      <td>/wcC7kCICL6x6zHUlUyNp9pWoqW1.jpg</td>\n",
       "      <td>237000000</td>\n",
       "      <td>[{'id': 28, 'name': 'Action'}, {'id': 12, 'nam...</td>\n",
       "      <td>http://www.avatarmovie.com/</td>\n",
       "      <td>19995</td>\n",
       "      <td>tt0499549</td>\n",
       "      <td>en</td>\n",
       "      <td>Avatar</td>\n",
       "      <td>In the 22nd century, a paraplegic Marine is di...</td>\n",
       "      <td>...</td>\n",
       "      <td>Enter the World of Pandora.</td>\n",
       "      <td>Avatar</td>\n",
       "      <td>False</td>\n",
       "      <td>7.4</td>\n",
       "      <td>21000</td>\n",
       "      <td>87096.0</td>\n",
       "      <td>Avatar Collection</td>\n",
       "      <td>/nslJVsO58Etqkk17oXMuVK4gNOF.jpg</td>\n",
       "      <td>/8nCr9W7sKus2q9PLbYsnT7iCkuT.jpg</td>\n",
       "      <td>NaN</td>\n",
       "    </tr>\n",
       "  </tbody>\n",
       "</table>\n",
       "<p>2 rows × 29 columns</p>\n",
       "</div>"
      ],
      "text/plain": [
       "   adult                     backdrop_path     budget  \\\n",
       "0  False  /orjiB3oUIsyz60hoEqkiGpy5CeO.jpg  356000000   \n",
       "1  False  /wcC7kCICL6x6zHUlUyNp9pWoqW1.jpg  237000000   \n",
       "\n",
       "                                              genres  \\\n",
       "0  [{'id': 12, 'name': 'Adventure'}, {'id': 878, ...   \n",
       "1  [{'id': 28, 'name': 'Action'}, {'id': 12, 'nam...   \n",
       "\n",
       "                                         homepage      id    imdb_id  \\\n",
       "0  https://www.marvel.com/movies/avengers-endgame  299534  tt4154796   \n",
       "1                     http://www.avatarmovie.com/   19995  tt0499549   \n",
       "\n",
       "  original_language     original_title  \\\n",
       "0                en  Avengers: Endgame   \n",
       "1                en             Avatar   \n",
       "\n",
       "                                            overview  ...  \\\n",
       "0  After the devastating events of Avengers: Infi...  ...   \n",
       "1  In the 22nd century, a paraplegic Marine is di...  ...   \n",
       "\n",
       "                           tagline              title  video vote_average  \\\n",
       "0  Part of the journey is the end.  Avengers: Endgame  False          8.3   \n",
       "1      Enter the World of Pandora.             Avatar  False          7.4   \n",
       "\n",
       "  vote_count  belongs_to_collection_id  belongs_to_collection_name  \\\n",
       "0      12607                   86311.0     The Avengers Collection   \n",
       "1      21000                   87096.0           Avatar Collection   \n",
       "\n",
       "  belongs_to_collection_poster_path belongs_to_collection_backdrop_path  \\\n",
       "0  /yFSIUVTCvgYrpalUktulvk3Gi5Y.jpg    /zuW6fOiusv4X9nnW3paHGfXcSll.jpg   \n",
       "1  /nslJVsO58Etqkk17oXMuVK4gNOF.jpg    /8nCr9W7sKus2q9PLbYsnT7iCkuT.jpg   \n",
       "\n",
       "  belongs_to_collection  \n",
       "0                   NaN  \n",
       "1                   NaN  \n",
       "\n",
       "[2 rows x 29 columns]"
      ]
     },
     "execution_count": 14,
     "metadata": {},
     "output_type": "execute_result"
    }
   ],
   "source": [
    "data = json.load(open('some_movies.json'))\n",
    "df = pd.json_normalize(data, sep='_')\n",
    "df.head(2)"
   ]
  },
  {
   "cell_type": "code",
   "execution_count": 15,
   "id": "9b255dea",
   "metadata": {},
   "outputs": [
    {
     "data": {
      "text/html": [
       "<div>\n",
       "<style scoped>\n",
       "    .dataframe tbody tr th:only-of-type {\n",
       "        vertical-align: middle;\n",
       "    }\n",
       "\n",
       "    .dataframe tbody tr th {\n",
       "        vertical-align: top;\n",
       "    }\n",
       "\n",
       "    .dataframe thead th {\n",
       "        text-align: right;\n",
       "    }\n",
       "</style>\n",
       "<table border=\"1\" class=\"dataframe\">\n",
       "  <thead>\n",
       "    <tr style=\"text-align: right;\">\n",
       "      <th></th>\n",
       "      <th>id</th>\n",
       "      <th>title</th>\n",
       "      <th>revenue</th>\n",
       "      <th>budget</th>\n",
       "      <th>belongs_to_collection_name</th>\n",
       "      <th>release_date</th>\n",
       "    </tr>\n",
       "  </thead>\n",
       "  <tbody>\n",
       "    <tr>\n",
       "      <th>0</th>\n",
       "      <td>299534</td>\n",
       "      <td>Avengers: Endgame</td>\n",
       "      <td>2797800564</td>\n",
       "      <td>356000000</td>\n",
       "      <td>The Avengers Collection</td>\n",
       "      <td>2019-04-24</td>\n",
       "    </tr>\n",
       "    <tr>\n",
       "      <th>1</th>\n",
       "      <td>19995</td>\n",
       "      <td>Avatar</td>\n",
       "      <td>2787965087</td>\n",
       "      <td>237000000</td>\n",
       "      <td>Avatar Collection</td>\n",
       "      <td>2009-12-10</td>\n",
       "    </tr>\n",
       "  </tbody>\n",
       "</table>\n",
       "</div>"
      ],
      "text/plain": [
       "       id              title     revenue     budget  \\\n",
       "0  299534  Avengers: Endgame  2797800564  356000000   \n",
       "1   19995             Avatar  2787965087  237000000   \n",
       "\n",
       "  belongs_to_collection_name release_date  \n",
       "0    The Avengers Collection   2019-04-24  \n",
       "1          Avatar Collection   2009-12-10  "
      ]
     },
     "execution_count": 15,
     "metadata": {},
     "output_type": "execute_result"
    }
   ],
   "source": [
    "movieCols = ['id', 'title', 'revenue', 'budget', 'belongs_to_collection_name', 'release_date']\n",
    "movies = df.loc[:, movieCols].copy()\n",
    "movies.head(2)"
   ]
  },
  {
   "cell_type": "code",
   "execution_count": 16,
   "id": "32454980",
   "metadata": {},
   "outputs": [],
   "source": [
    "movies['release_date'] = pd.to_datetime(movies['release_date'])\n",
    "movies['revenue'] = movies['revenue'] / 1000000\n",
    "movies['budget'] = movies['budget'] / 1000000"
   ]
  },
  {
   "cell_type": "code",
   "execution_count": 17,
   "id": "4dd3132b",
   "metadata": {},
   "outputs": [
    {
     "data": {
      "text/html": [
       "<div>\n",
       "<style scoped>\n",
       "    .dataframe tbody tr th:only-of-type {\n",
       "        vertical-align: middle;\n",
       "    }\n",
       "\n",
       "    .dataframe tbody tr th {\n",
       "        vertical-align: top;\n",
       "    }\n",
       "\n",
       "    .dataframe thead th {\n",
       "        text-align: right;\n",
       "    }\n",
       "</style>\n",
       "<table border=\"1\" class=\"dataframe\">\n",
       "  <thead>\n",
       "    <tr style=\"text-align: right;\">\n",
       "      <th></th>\n",
       "      <th>id</th>\n",
       "      <th>vote_count</th>\n",
       "      <th>vote_average</th>\n",
       "    </tr>\n",
       "  </thead>\n",
       "  <tbody>\n",
       "    <tr>\n",
       "      <th>0</th>\n",
       "      <td>299534</td>\n",
       "      <td>12607</td>\n",
       "      <td>8.3</td>\n",
       "    </tr>\n",
       "    <tr>\n",
       "      <th>1</th>\n",
       "      <td>19995</td>\n",
       "      <td>21000</td>\n",
       "      <td>7.4</td>\n",
       "    </tr>\n",
       "  </tbody>\n",
       "</table>\n",
       "</div>"
      ],
      "text/plain": [
       "       id  vote_count  vote_average\n",
       "0  299534       12607           8.3\n",
       "1   19995       21000           7.4"
      ]
     },
     "execution_count": 17,
     "metadata": {},
     "output_type": "execute_result"
    }
   ],
   "source": [
    "# Create Votes DF\n",
    "votes = df.loc[:, ['id', 'vote_count', 'vote_average']].copy()\n",
    "votes.head(2)"
   ]
  },
  {
   "cell_type": "code",
   "execution_count": 19,
   "id": "3a799e06",
   "metadata": {},
   "outputs": [
    {
     "data": {
      "text/html": [
       "<div>\n",
       "<style scoped>\n",
       "    .dataframe tbody tr th:only-of-type {\n",
       "        vertical-align: middle;\n",
       "    }\n",
       "\n",
       "    .dataframe tbody tr th {\n",
       "        vertical-align: top;\n",
       "    }\n",
       "\n",
       "    .dataframe thead th {\n",
       "        text-align: right;\n",
       "    }\n",
       "</style>\n",
       "<table border=\"1\" class=\"dataframe\">\n",
       "  <thead>\n",
       "    <tr style=\"text-align: right;\">\n",
       "      <th></th>\n",
       "      <th>genreid</th>\n",
       "      <th>genrename</th>\n",
       "      <th>id</th>\n",
       "    </tr>\n",
       "  </thead>\n",
       "  <tbody>\n",
       "    <tr>\n",
       "      <th>0</th>\n",
       "      <td>12</td>\n",
       "      <td>Adventure</td>\n",
       "      <td>299534</td>\n",
       "    </tr>\n",
       "    <tr>\n",
       "      <th>1</th>\n",
       "      <td>878</td>\n",
       "      <td>Science Fiction</td>\n",
       "      <td>299534</td>\n",
       "    </tr>\n",
       "  </tbody>\n",
       "</table>\n",
       "</div>"
      ],
      "text/plain": [
       "   genreid        genrename      id\n",
       "0       12        Adventure  299534\n",
       "1      878  Science Fiction  299534"
      ]
     },
     "execution_count": 19,
     "metadata": {},
     "output_type": "execute_result"
    }
   ],
   "source": [
    "# Create Genres DF\n",
    "genres = pd.json_normalize(data, record_path='genres', meta='id', record_prefix='genre')\n",
    "genres.head(2)"
   ]
  },
  {
   "cell_type": "code",
   "execution_count": 21,
   "id": "4edc88fc",
   "metadata": {},
   "outputs": [
    {
     "data": {
      "text/html": [
       "<div>\n",
       "<style scoped>\n",
       "    .dataframe tbody tr th:only-of-type {\n",
       "        vertical-align: middle;\n",
       "    }\n",
       "\n",
       "    .dataframe tbody tr th {\n",
       "        vertical-align: top;\n",
       "    }\n",
       "\n",
       "    .dataframe thead th {\n",
       "        text-align: right;\n",
       "    }\n",
       "</style>\n",
       "<table border=\"1\" class=\"dataframe\">\n",
       "  <thead>\n",
       "    <tr style=\"text-align: right;\">\n",
       "      <th></th>\n",
       "      <th>productionid</th>\n",
       "      <th>productionlogo_path</th>\n",
       "      <th>productionname</th>\n",
       "      <th>productionorigin_country</th>\n",
       "      <th>id</th>\n",
       "    </tr>\n",
       "  </thead>\n",
       "  <tbody>\n",
       "    <tr>\n",
       "      <th>0</th>\n",
       "      <td>420</td>\n",
       "      <td>/hUzeosd33nzE5MCNsZxCGEKTXaQ.png</td>\n",
       "      <td>Marvel Studios</td>\n",
       "      <td>US</td>\n",
       "      <td>299534</td>\n",
       "    </tr>\n",
       "    <tr>\n",
       "      <th>1</th>\n",
       "      <td>444</td>\n",
       "      <td>/42UPdZl6B2cFXgNUASR8hSt9mpS.png</td>\n",
       "      <td>Dune Entertainment</td>\n",
       "      <td>US</td>\n",
       "      <td>19995</td>\n",
       "    </tr>\n",
       "  </tbody>\n",
       "</table>\n",
       "</div>"
      ],
      "text/plain": [
       "   productionid               productionlogo_path      productionname  \\\n",
       "0           420  /hUzeosd33nzE5MCNsZxCGEKTXaQ.png      Marvel Studios   \n",
       "1           444  /42UPdZl6B2cFXgNUASR8hSt9mpS.png  Dune Entertainment   \n",
       "\n",
       "  productionorigin_country      id  \n",
       "0                       US  299534  \n",
       "1                       US   19995  "
      ]
     },
     "execution_count": 21,
     "metadata": {},
     "output_type": "execute_result"
    }
   ],
   "source": [
    "# Create Production Company DF\n",
    "productionCos = pd.json_normalize(data, record_path='production_companies', meta='id', record_prefix='production')\n",
    "productionCos.head(2)"
   ]
  },
  {
   "cell_type": "code",
   "execution_count": 22,
   "id": "891996f2",
   "metadata": {},
   "outputs": [],
   "source": [
    "# Reconnect to movies.db\n",
    "con = sq.connect('movies.db')"
   ]
  },
  {
   "cell_type": "code",
   "execution_count": 23,
   "id": "237138d4",
   "metadata": {},
   "outputs": [],
   "source": [
    "# Add movies DF to movies.db in Movies table\n",
    "movies.to_sql('Movies', con, index=False)"
   ]
  },
  {
   "cell_type": "code",
   "execution_count": 24,
   "id": "e55b8034",
   "metadata": {},
   "outputs": [],
   "source": [
    "# Add votes DF to movies.db in Votes table\n",
    "votes.to_sql('Votes', con, index=False)"
   ]
  },
  {
   "cell_type": "code",
   "execution_count": 25,
   "id": "ed58c6d8",
   "metadata": {},
   "outputs": [],
   "source": [
    "# Add genres DF to movies.db in Genres table\n",
    "genres.to_sql('Genres', con, index=False)"
   ]
  },
  {
   "cell_type": "code",
   "execution_count": 27,
   "id": "d4636f36",
   "metadata": {},
   "outputs": [],
   "source": [
    "# Add Production Company DF to movies.db in ProdCo table\n",
    "productionCos.to_sql('ProdCo', con, index=False)"
   ]
  },
  {
   "cell_type": "code",
   "execution_count": 28,
   "id": "84400b02",
   "metadata": {},
   "outputs": [
    {
     "data": {
      "text/plain": [
       "[('table',\n",
       "  'Movies',\n",
       "  'Movies',\n",
       "  2,\n",
       "  'CREATE TABLE \"Movies\" (\\n\"id\" INTEGER,\\n  \"title\" TEXT,\\n  \"revenue\" REAL,\\n  \"budget\" REAL,\\n  \"belongs_to_collection_name\" TEXT,\\n  \"release_date\" TIMESTAMP\\n)'),\n",
       " ('table',\n",
       "  'Votes',\n",
       "  'Votes',\n",
       "  3,\n",
       "  'CREATE TABLE \"Votes\" (\\n\"id\" INTEGER,\\n  \"vote_count\" INTEGER,\\n  \"vote_average\" REAL\\n)'),\n",
       " ('table',\n",
       "  'Genres',\n",
       "  'Genres',\n",
       "  4,\n",
       "  'CREATE TABLE \"Genres\" (\\n\"genreid\" INTEGER,\\n  \"genrename\" TEXT,\\n  \"id\" INTEGER\\n)'),\n",
       " ('table',\n",
       "  'ProdCo',\n",
       "  'ProdCo',\n",
       "  5,\n",
       "  'CREATE TABLE \"ProdCo\" (\\n\"productionid\" INTEGER,\\n  \"productionlogo_path\" TEXT,\\n  \"productionname\" TEXT,\\n  \"productionorigin_country\" TEXT,\\n  \"id\" INTEGER\\n)')]"
      ]
     },
     "execution_count": 28,
     "metadata": {},
     "output_type": "execute_result"
    }
   ],
   "source": [
    "con.execute(\"Select * from sqlite_master\").fetchall()"
   ]
  },
  {
   "cell_type": "code",
   "execution_count": 29,
   "id": "8b3fea28",
   "metadata": {},
   "outputs": [
    {
     "data": {
      "text/plain": [
       "[('Genres',), ('Movies',), ('ProdCo',), ('Votes',)]"
      ]
     },
     "execution_count": 29,
     "metadata": {},
     "output_type": "execute_result"
    }
   ],
   "source": [
    "con.execute(\"Select name from sqlite_master where type='table' order by name\").fetchall()"
   ]
  },
  {
   "cell_type": "code",
   "execution_count": 31,
   "id": "0ce66318",
   "metadata": {},
   "outputs": [
    {
     "data": {
      "text/html": [
       "<div>\n",
       "<style scoped>\n",
       "    .dataframe tbody tr th:only-of-type {\n",
       "        vertical-align: middle;\n",
       "    }\n",
       "\n",
       "    .dataframe tbody tr th {\n",
       "        vertical-align: top;\n",
       "    }\n",
       "\n",
       "    .dataframe thead th {\n",
       "        text-align: right;\n",
       "    }\n",
       "</style>\n",
       "<table border=\"1\" class=\"dataframe\">\n",
       "  <thead>\n",
       "    <tr style=\"text-align: right;\">\n",
       "      <th></th>\n",
       "      <th>title</th>\n",
       "      <th>revenue</th>\n",
       "      <th>budget</th>\n",
       "      <th>belongs_to_collection_name</th>\n",
       "      <th>release_date</th>\n",
       "    </tr>\n",
       "    <tr>\n",
       "      <th>id</th>\n",
       "      <th></th>\n",
       "      <th></th>\n",
       "      <th></th>\n",
       "      <th></th>\n",
       "      <th></th>\n",
       "    </tr>\n",
       "  </thead>\n",
       "  <tbody>\n",
       "    <tr>\n",
       "      <th>299534</th>\n",
       "      <td>Avengers: Endgame</td>\n",
       "      <td>2797.800564</td>\n",
       "      <td>356.0</td>\n",
       "      <td>The Avengers Collection</td>\n",
       "      <td>2019-04-24</td>\n",
       "    </tr>\n",
       "    <tr>\n",
       "      <th>19995</th>\n",
       "      <td>Avatar</td>\n",
       "      <td>2787.965087</td>\n",
       "      <td>237.0</td>\n",
       "      <td>Avatar Collection</td>\n",
       "      <td>2009-12-10</td>\n",
       "    </tr>\n",
       "    <tr>\n",
       "      <th>140607</th>\n",
       "      <td>Star Wars: The Force Awakens</td>\n",
       "      <td>2068.223624</td>\n",
       "      <td>245.0</td>\n",
       "      <td>Star Wars Collection</td>\n",
       "      <td>2015-12-15</td>\n",
       "    </tr>\n",
       "    <tr>\n",
       "      <th>299536</th>\n",
       "      <td>Avengers: Infinity War</td>\n",
       "      <td>2046.239637</td>\n",
       "      <td>300.0</td>\n",
       "      <td>The Avengers Collection</td>\n",
       "      <td>2018-04-25</td>\n",
       "    </tr>\n",
       "    <tr>\n",
       "      <th>597</th>\n",
       "      <td>Titanic</td>\n",
       "      <td>1845.034188</td>\n",
       "      <td>200.0</td>\n",
       "      <td>None</td>\n",
       "      <td>1997-11-18</td>\n",
       "    </tr>\n",
       "    <tr>\n",
       "      <th>135397</th>\n",
       "      <td>Jurassic World</td>\n",
       "      <td>1671.713208</td>\n",
       "      <td>150.0</td>\n",
       "      <td>Jurassic Park Collection</td>\n",
       "      <td>2015-06-06</td>\n",
       "    </tr>\n",
       "    <tr>\n",
       "      <th>420818</th>\n",
       "      <td>The Lion King</td>\n",
       "      <td>1656.943394</td>\n",
       "      <td>260.0</td>\n",
       "      <td>None</td>\n",
       "      <td>2019-07-12</td>\n",
       "    </tr>\n",
       "    <tr>\n",
       "      <th>24428</th>\n",
       "      <td>The Avengers</td>\n",
       "      <td>1519.557910</td>\n",
       "      <td>220.0</td>\n",
       "      <td>The Avengers Collection</td>\n",
       "      <td>2012-04-25</td>\n",
       "    </tr>\n",
       "    <tr>\n",
       "      <th>168259</th>\n",
       "      <td>Furious 7</td>\n",
       "      <td>1515.047671</td>\n",
       "      <td>190.0</td>\n",
       "      <td>The Fast and the Furious Collection</td>\n",
       "      <td>2015-04-01</td>\n",
       "    </tr>\n",
       "    <tr>\n",
       "      <th>99861</th>\n",
       "      <td>Avengers: Age of Ultron</td>\n",
       "      <td>1405.403694</td>\n",
       "      <td>250.0</td>\n",
       "      <td>The Avengers Collection</td>\n",
       "      <td>2015-04-22</td>\n",
       "    </tr>\n",
       "    <tr>\n",
       "      <th>284054</th>\n",
       "      <td>Black Panther</td>\n",
       "      <td>1346.739107</td>\n",
       "      <td>200.0</td>\n",
       "      <td>Black Panther Collection</td>\n",
       "      <td>2018-02-13</td>\n",
       "    </tr>\n",
       "    <tr>\n",
       "      <th>12445</th>\n",
       "      <td>Harry Potter and the Deathly Hallows: Part 2</td>\n",
       "      <td>1341.511219</td>\n",
       "      <td>125.0</td>\n",
       "      <td>Harry Potter Collection</td>\n",
       "      <td>2011-07-07</td>\n",
       "    </tr>\n",
       "    <tr>\n",
       "      <th>181808</th>\n",
       "      <td>Star Wars: The Last Jedi</td>\n",
       "      <td>1332.539889</td>\n",
       "      <td>200.0</td>\n",
       "      <td>Star Wars Collection</td>\n",
       "      <td>2017-12-13</td>\n",
       "    </tr>\n",
       "    <tr>\n",
       "      <th>330457</th>\n",
       "      <td>Frozen II</td>\n",
       "      <td>1330.764959</td>\n",
       "      <td>150.0</td>\n",
       "      <td>Frozen Collection</td>\n",
       "      <td>2019-11-20</td>\n",
       "    </tr>\n",
       "    <tr>\n",
       "      <th>351286</th>\n",
       "      <td>Jurassic World: Fallen Kingdom</td>\n",
       "      <td>1303.459585</td>\n",
       "      <td>170.0</td>\n",
       "      <td>Jurassic Park Collection</td>\n",
       "      <td>2018-06-06</td>\n",
       "    </tr>\n",
       "    <tr>\n",
       "      <th>109445</th>\n",
       "      <td>Frozen</td>\n",
       "      <td>1274.219009</td>\n",
       "      <td>150.0</td>\n",
       "      <td>Frozen Collection</td>\n",
       "      <td>2013-11-27</td>\n",
       "    </tr>\n",
       "    <tr>\n",
       "      <th>321612</th>\n",
       "      <td>Beauty and the Beast</td>\n",
       "      <td>1263.521126</td>\n",
       "      <td>160.0</td>\n",
       "      <td>None</td>\n",
       "      <td>2017-03-16</td>\n",
       "    </tr>\n",
       "    <tr>\n",
       "      <th>260513</th>\n",
       "      <td>Incredibles 2</td>\n",
       "      <td>1241.891456</td>\n",
       "      <td>200.0</td>\n",
       "      <td>The Incredibles Collection</td>\n",
       "      <td>2018-06-14</td>\n",
       "    </tr>\n",
       "  </tbody>\n",
       "</table>\n",
       "</div>"
      ],
      "text/plain": [
       "                                               title      revenue  budget  \\\n",
       "id                                                                          \n",
       "299534                             Avengers: Endgame  2797.800564   356.0   \n",
       "19995                                         Avatar  2787.965087   237.0   \n",
       "140607                  Star Wars: The Force Awakens  2068.223624   245.0   \n",
       "299536                        Avengers: Infinity War  2046.239637   300.0   \n",
       "597                                          Titanic  1845.034188   200.0   \n",
       "135397                                Jurassic World  1671.713208   150.0   \n",
       "420818                                 The Lion King  1656.943394   260.0   \n",
       "24428                                   The Avengers  1519.557910   220.0   \n",
       "168259                                     Furious 7  1515.047671   190.0   \n",
       "99861                        Avengers: Age of Ultron  1405.403694   250.0   \n",
       "284054                                 Black Panther  1346.739107   200.0   \n",
       "12445   Harry Potter and the Deathly Hallows: Part 2  1341.511219   125.0   \n",
       "181808                      Star Wars: The Last Jedi  1332.539889   200.0   \n",
       "330457                                     Frozen II  1330.764959   150.0   \n",
       "351286                Jurassic World: Fallen Kingdom  1303.459585   170.0   \n",
       "109445                                        Frozen  1274.219009   150.0   \n",
       "321612                          Beauty and the Beast  1263.521126   160.0   \n",
       "260513                                 Incredibles 2  1241.891456   200.0   \n",
       "\n",
       "                 belongs_to_collection_name release_date  \n",
       "id                                                        \n",
       "299534              The Avengers Collection   2019-04-24  \n",
       "19995                     Avatar Collection   2009-12-10  \n",
       "140607                 Star Wars Collection   2015-12-15  \n",
       "299536              The Avengers Collection   2018-04-25  \n",
       "597                                    None   1997-11-18  \n",
       "135397             Jurassic Park Collection   2015-06-06  \n",
       "420818                                 None   2019-07-12  \n",
       "24428               The Avengers Collection   2012-04-25  \n",
       "168259  The Fast and the Furious Collection   2015-04-01  \n",
       "99861               The Avengers Collection   2015-04-22  \n",
       "284054             Black Panther Collection   2018-02-13  \n",
       "12445               Harry Potter Collection   2011-07-07  \n",
       "181808                 Star Wars Collection   2017-12-13  \n",
       "330457                    Frozen Collection   2019-11-20  \n",
       "351286             Jurassic Park Collection   2018-06-06  \n",
       "109445                    Frozen Collection   2013-11-27  \n",
       "321612                                 None   2017-03-16  \n",
       "260513           The Incredibles Collection   2018-06-14  "
      ]
     },
     "execution_count": 31,
     "metadata": {},
     "output_type": "execute_result"
    }
   ],
   "source": [
    "# Loading sqlite data into panda DF\n",
    "pd.read_sql(\"Select * from Movies\", con, index_col='id', parse_dates='release_date')"
   ]
  },
  {
   "cell_type": "code",
   "execution_count": 36,
   "id": "34c858c1",
   "metadata": {},
   "outputs": [
    {
     "data": {
      "text/plain": [
       "[(8.3, 'Avengers: Infinity War', '2018-04-25 00:00:00'),\n",
       " (7.5, 'Incredibles 2', '2018-06-14 00:00:00'),\n",
       " (7.4, 'Black Panther', '2018-02-13 00:00:00'),\n",
       " (6.5, 'Jurassic World: Fallen Kingdom', '2018-06-06 00:00:00')]"
      ]
     },
     "execution_count": 36,
     "metadata": {},
     "output_type": "execute_result"
    }
   ],
   "source": [
    "# Pull average votes for every movie in 2018\n",
    "con.execute(\"select avg(v.vote_average), a.title, a.release_date from Movies a join Votes v on a.id = v.id where a.release_date between '2018-01-01' and '2018-12-31' group by a.title, a.release_date order by avg(v.vote_average) desc\").fetchall()"
   ]
  },
  {
   "cell_type": "code",
   "execution_count": 42,
   "id": "c6361b29",
   "metadata": {},
   "outputs": [
    {
     "data": {
      "text/plain": [
       "productionname\n",
       "Walt Disney Pictures                           9446.618940\n",
       "Marvel Studios                                 9115.740912\n",
       "20th Century Fox                               4632.999275\n",
       "Lightstorm Entertainment                       4632.999275\n",
       "Universal Pictures                             4490.220464\n",
       "Lucasfilm                                      3400.763513\n",
       "Paramount                                      3364.592098\n",
       "Fuji Television Network                        3186.760879\n",
       "Dentsu                                         3186.760879\n",
       "Legendary Entertainment                        2975.172793\n",
       "Amblin Entertainment                           2975.172793\n",
       "Ingenious Media                                2787.965087\n",
       "Dune Entertainment                             2787.965087\n",
       "Walt Disney Animation Studios                  2604.983968\n",
       "Bad Robot                                      2068.223624\n",
       "Truenorth Productions                          2068.223624\n",
       "The Kennedy/Marshall Company                   1671.713208\n",
       "Fairview Entertainment                         1656.943394\n",
       "Colorado Office of Film, Television & Media    1515.047671\n",
       "Abu Dhabi Film Commission                      1515.047671\n",
       "China Film Co.                                 1515.047671\n",
       "Media Rights Capital                           1515.047671\n",
       "One Race                                       1515.047671\n",
       "Original Film                                  1515.047671\n",
       "Québec Production Services Tax Credit          1515.047671\n",
       "Warner Bros. Pictures                          1341.511219\n",
       "Heyday Films                                   1341.511219\n",
       "Ram Bergman Productions                        1332.539889\n",
       "Perfect World Pictures                         1303.459585\n",
       "Mandeville Films                               1263.521126\n",
       "Pixar                                          1241.891456\n",
       "Name: revenue, dtype: float64"
      ]
     },
     "execution_count": 42,
     "metadata": {},
     "output_type": "execute_result"
    }
   ],
   "source": [
    "# What are the most successful production companies in terms of total rev\n",
    "df = pd.read_sql(\"select p.id, p.productionname, m.revenue, m.title \\\n",
    "    from ProdCo p \\\n",
    "    left join Movies m \\\n",
    "    on p.id = m.id\", con)\n",
    "\n",
    "df.groupby('productionname')['revenue'].sum().sort_values(ascending=False)"
   ]
  },
  {
   "cell_type": "code",
   "execution_count": 48,
   "id": "a4ef50ef",
   "metadata": {},
   "outputs": [
    {
     "data": {
      "text/html": [
       "<div>\n",
       "<style scoped>\n",
       "    .dataframe tbody tr th:only-of-type {\n",
       "        vertical-align: middle;\n",
       "    }\n",
       "\n",
       "    .dataframe tbody tr th {\n",
       "        vertical-align: top;\n",
       "    }\n",
       "\n",
       "    .dataframe thead th {\n",
       "        text-align: right;\n",
       "    }\n",
       "</style>\n",
       "<table border=\"1\" class=\"dataframe\">\n",
       "  <thead>\n",
       "    <tr style=\"text-align: right;\">\n",
       "      <th></th>\n",
       "      <th>genrename</th>\n",
       "      <th>count(distinct id)</th>\n",
       "    </tr>\n",
       "  </thead>\n",
       "  <tbody>\n",
       "    <tr>\n",
       "      <th>0</th>\n",
       "      <td>Action</td>\n",
       "      <td>12</td>\n",
       "    </tr>\n",
       "    <tr>\n",
       "      <th>1</th>\n",
       "      <td>Adventure</td>\n",
       "      <td>15</td>\n",
       "    </tr>\n",
       "    <tr>\n",
       "      <th>2</th>\n",
       "      <td>Animation</td>\n",
       "      <td>3</td>\n",
       "    </tr>\n",
       "    <tr>\n",
       "      <th>3</th>\n",
       "      <td>Drama</td>\n",
       "      <td>1</td>\n",
       "    </tr>\n",
       "    <tr>\n",
       "      <th>4</th>\n",
       "      <td>Family</td>\n",
       "      <td>5</td>\n",
       "    </tr>\n",
       "    <tr>\n",
       "      <th>5</th>\n",
       "      <td>Fantasy</td>\n",
       "      <td>5</td>\n",
       "    </tr>\n",
       "    <tr>\n",
       "      <th>6</th>\n",
       "      <td>Romance</td>\n",
       "      <td>2</td>\n",
       "    </tr>\n",
       "    <tr>\n",
       "      <th>7</th>\n",
       "      <td>Science Fiction</td>\n",
       "      <td>10</td>\n",
       "    </tr>\n",
       "    <tr>\n",
       "      <th>8</th>\n",
       "      <td>Thriller</td>\n",
       "      <td>2</td>\n",
       "    </tr>\n",
       "  </tbody>\n",
       "</table>\n",
       "</div>"
      ],
      "text/plain": [
       "         genrename  count(distinct id)\n",
       "0           Action                  12\n",
       "1        Adventure                  15\n",
       "2        Animation                   3\n",
       "3            Drama                   1\n",
       "4           Family                   5\n",
       "5          Fantasy                   5\n",
       "6          Romance                   2\n",
       "7  Science Fiction                  10\n",
       "8         Thriller                   2"
      ]
     },
     "execution_count": 48,
     "metadata": {},
     "output_type": "execute_result"
    }
   ],
   "source": [
    "# Most common genres\n",
    "df = pd.read_sql(\"select genrename, count(distinct id) from Genres group by genrename\", con)\n",
    "df"
   ]
  },
  {
   "cell_type": "code",
   "execution_count": 49,
   "id": "dfe5e893",
   "metadata": {},
   "outputs": [],
   "source": [
    "con.close()"
   ]
  },
  {
   "cell_type": "code",
   "execution_count": null,
   "id": "3356eb9e",
   "metadata": {},
   "outputs": [],
   "source": []
  }
 ],
 "metadata": {
  "kernelspec": {
   "display_name": "Python 3",
   "language": "python",
   "name": "python3"
  },
  "language_info": {
   "codemirror_mode": {
    "name": "ipython",
    "version": 3
   },
   "file_extension": ".py",
   "mimetype": "text/x-python",
   "name": "python",
   "nbconvert_exporter": "python",
   "pygments_lexer": "ipython3",
   "version": "3.8.8"
  }
 },
 "nbformat": 4,
 "nbformat_minor": 5
}
