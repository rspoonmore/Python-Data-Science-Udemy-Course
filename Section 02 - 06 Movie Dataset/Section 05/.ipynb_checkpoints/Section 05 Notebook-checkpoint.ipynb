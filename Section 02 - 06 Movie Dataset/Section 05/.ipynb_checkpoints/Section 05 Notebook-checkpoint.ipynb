{
 "cells": [
  {
   "cell_type": "code",
   "execution_count": 14,
   "id": "a5016143",
   "metadata": {},
   "outputs": [],
   "source": [
    "import pandas as pd\n",
    "import ast\n",
    "import numpy as np"
   ]
  },
  {
   "cell_type": "code",
   "execution_count": 8,
   "id": "db07c861",
   "metadata": {},
   "outputs": [],
   "source": [
    "movies = pd.read_csv('movies_clean.csv', parse_dates=['release_date'])\n",
    "# Will need to re-download credits.csv from class (https://www.udemy.com/course/python-data-science-with-pandas-master-advanced-projects/learn/lecture/18644626#overview)\n",
    "credits = pd.read_csv('credits.csv')"
   ]
  },
  {
   "cell_type": "code",
   "execution_count": 12,
   "id": "6943a851",
   "metadata": {},
   "outputs": [],
   "source": [
    "# Drop duplicate rows in credits DF\n",
    "credits.drop_duplicates(subset=['id'], keep='first', inplace=True)"
   ]
  },
  {
   "cell_type": "code",
   "execution_count": 16,
   "id": "e90a5eec",
   "metadata": {},
   "outputs": [],
   "source": [
    "# Change cast json string into Json Dict\n",
    "credits['cast'] = credits['cast'].apply(lambda x: ast.literal_eval(x) if isinstance(x, str) else np.nan)"
   ]
  },
  {
   "cell_type": "code",
   "execution_count": 18,
   "id": "b004b892",
   "metadata": {},
   "outputs": [
    {
     "data": {
      "text/html": [
       "<div>\n",
       "<style scoped>\n",
       "    .dataframe tbody tr th:only-of-type {\n",
       "        vertical-align: middle;\n",
       "    }\n",
       "\n",
       "    .dataframe tbody tr th {\n",
       "        vertical-align: top;\n",
       "    }\n",
       "\n",
       "    .dataframe thead th {\n",
       "        text-align: right;\n",
       "    }\n",
       "</style>\n",
       "<table border=\"1\" class=\"dataframe\">\n",
       "  <thead>\n",
       "    <tr style=\"text-align: right;\">\n",
       "      <th></th>\n",
       "      <th>cast_id</th>\n",
       "      <th>character</th>\n",
       "      <th>credit_id</th>\n",
       "      <th>gender</th>\n",
       "      <th>id</th>\n",
       "      <th>name</th>\n",
       "      <th>order</th>\n",
       "      <th>profile_path</th>\n",
       "    </tr>\n",
       "  </thead>\n",
       "  <tbody>\n",
       "    <tr>\n",
       "      <th>0</th>\n",
       "      <td>14</td>\n",
       "      <td>Woody (voice)</td>\n",
       "      <td>52fe4284c3a36847f8024f95</td>\n",
       "      <td>2</td>\n",
       "      <td>31</td>\n",
       "      <td>Tom Hanks</td>\n",
       "      <td>0</td>\n",
       "      <td>/pQFoyx7rp09CJTAb932F2g8Nlho.jpg</td>\n",
       "    </tr>\n",
       "    <tr>\n",
       "      <th>1</th>\n",
       "      <td>15</td>\n",
       "      <td>Buzz Lightyear (voice)</td>\n",
       "      <td>52fe4284c3a36847f8024f99</td>\n",
       "      <td>2</td>\n",
       "      <td>12898</td>\n",
       "      <td>Tim Allen</td>\n",
       "      <td>1</td>\n",
       "      <td>/uX2xVf6pMmPepxnvFWyBtjexzgY.jpg</td>\n",
       "    </tr>\n",
       "    <tr>\n",
       "      <th>2</th>\n",
       "      <td>16</td>\n",
       "      <td>Mr. Potato Head (voice)</td>\n",
       "      <td>52fe4284c3a36847f8024f9d</td>\n",
       "      <td>2</td>\n",
       "      <td>7167</td>\n",
       "      <td>Don Rickles</td>\n",
       "      <td>2</td>\n",
       "      <td>/h5BcaDMPRVLHLDzbQavec4xfSdt.jpg</td>\n",
       "    </tr>\n",
       "    <tr>\n",
       "      <th>3</th>\n",
       "      <td>17</td>\n",
       "      <td>Slinky Dog (voice)</td>\n",
       "      <td>52fe4284c3a36847f8024fa1</td>\n",
       "      <td>2</td>\n",
       "      <td>12899</td>\n",
       "      <td>Jim Varney</td>\n",
       "      <td>3</td>\n",
       "      <td>/eIo2jVVXYgjDtaHoF19Ll9vtW7h.jpg</td>\n",
       "    </tr>\n",
       "    <tr>\n",
       "      <th>4</th>\n",
       "      <td>18</td>\n",
       "      <td>Rex (voice)</td>\n",
       "      <td>52fe4284c3a36847f8024fa5</td>\n",
       "      <td>2</td>\n",
       "      <td>12900</td>\n",
       "      <td>Wallace Shawn</td>\n",
       "      <td>4</td>\n",
       "      <td>/oGE6JqPP2xH4tNORKNqxbNPYi7u.jpg</td>\n",
       "    </tr>\n",
       "    <tr>\n",
       "      <th>5</th>\n",
       "      <td>19</td>\n",
       "      <td>Hamm (voice)</td>\n",
       "      <td>52fe4284c3a36847f8024fa9</td>\n",
       "      <td>2</td>\n",
       "      <td>7907</td>\n",
       "      <td>John Ratzenberger</td>\n",
       "      <td>5</td>\n",
       "      <td>/yGechiKWL6TJDfVE2KPSJYqdMsY.jpg</td>\n",
       "    </tr>\n",
       "    <tr>\n",
       "      <th>6</th>\n",
       "      <td>20</td>\n",
       "      <td>Bo Peep (voice)</td>\n",
       "      <td>52fe4284c3a36847f8024fad</td>\n",
       "      <td>1</td>\n",
       "      <td>8873</td>\n",
       "      <td>Annie Potts</td>\n",
       "      <td>6</td>\n",
       "      <td>/eryXT84RL41jHSJcMy4kS3u9y6w.jpg</td>\n",
       "    </tr>\n",
       "    <tr>\n",
       "      <th>7</th>\n",
       "      <td>26</td>\n",
       "      <td>Andy (voice)</td>\n",
       "      <td>52fe4284c3a36847f8024fc1</td>\n",
       "      <td>0</td>\n",
       "      <td>1116442</td>\n",
       "      <td>John Morris</td>\n",
       "      <td>7</td>\n",
       "      <td>/vYGyvK4LzeaUCoNSHtsuqJUY15M.jpg</td>\n",
       "    </tr>\n",
       "    <tr>\n",
       "      <th>8</th>\n",
       "      <td>22</td>\n",
       "      <td>Sid (voice)</td>\n",
       "      <td>52fe4284c3a36847f8024fb1</td>\n",
       "      <td>2</td>\n",
       "      <td>12901</td>\n",
       "      <td>Erik von Detten</td>\n",
       "      <td>8</td>\n",
       "      <td>/twnF1ZaJ1FUNUuo6xLXwcxjayBE.jpg</td>\n",
       "    </tr>\n",
       "    <tr>\n",
       "      <th>9</th>\n",
       "      <td>23</td>\n",
       "      <td>Mrs. Davis (voice)</td>\n",
       "      <td>52fe4284c3a36847f8024fb5</td>\n",
       "      <td>1</td>\n",
       "      <td>12133</td>\n",
       "      <td>Laurie Metcalf</td>\n",
       "      <td>9</td>\n",
       "      <td>/unMMIT60eoBM2sN2nyR7EZ2BvvD.jpg</td>\n",
       "    </tr>\n",
       "    <tr>\n",
       "      <th>10</th>\n",
       "      <td>24</td>\n",
       "      <td>Sergeant (voice)</td>\n",
       "      <td>52fe4284c3a36847f8024fb9</td>\n",
       "      <td>2</td>\n",
       "      <td>8655</td>\n",
       "      <td>R. Lee Ermey</td>\n",
       "      <td>10</td>\n",
       "      <td>/r8GBqFBjypLUP9VVqDqfZ7wYbSs.jpg</td>\n",
       "    </tr>\n",
       "    <tr>\n",
       "      <th>11</th>\n",
       "      <td>25</td>\n",
       "      <td>Hannah (voice)</td>\n",
       "      <td>52fe4284c3a36847f8024fbd</td>\n",
       "      <td>1</td>\n",
       "      <td>12903</td>\n",
       "      <td>Sarah Freeman</td>\n",
       "      <td>11</td>\n",
       "      <td>None</td>\n",
       "    </tr>\n",
       "    <tr>\n",
       "      <th>12</th>\n",
       "      <td>27</td>\n",
       "      <td>TV Announcer (voice)</td>\n",
       "      <td>52fe4284c3a36847f8024fc5</td>\n",
       "      <td>2</td>\n",
       "      <td>37221</td>\n",
       "      <td>Penn Jillette</td>\n",
       "      <td>12</td>\n",
       "      <td>/zmAaXUdx12NRsssgHbk1T31j2x9.jpg</td>\n",
       "    </tr>\n",
       "  </tbody>\n",
       "</table>\n",
       "</div>"
      ],
      "text/plain": [
       "    cast_id                character                 credit_id  gender  \\\n",
       "0        14            Woody (voice)  52fe4284c3a36847f8024f95       2   \n",
       "1        15   Buzz Lightyear (voice)  52fe4284c3a36847f8024f99       2   \n",
       "2        16  Mr. Potato Head (voice)  52fe4284c3a36847f8024f9d       2   \n",
       "3        17       Slinky Dog (voice)  52fe4284c3a36847f8024fa1       2   \n",
       "4        18              Rex (voice)  52fe4284c3a36847f8024fa5       2   \n",
       "5        19             Hamm (voice)  52fe4284c3a36847f8024fa9       2   \n",
       "6        20          Bo Peep (voice)  52fe4284c3a36847f8024fad       1   \n",
       "7        26             Andy (voice)  52fe4284c3a36847f8024fc1       0   \n",
       "8        22              Sid (voice)  52fe4284c3a36847f8024fb1       2   \n",
       "9        23       Mrs. Davis (voice)  52fe4284c3a36847f8024fb5       1   \n",
       "10       24         Sergeant (voice)  52fe4284c3a36847f8024fb9       2   \n",
       "11       25           Hannah (voice)  52fe4284c3a36847f8024fbd       1   \n",
       "12       27     TV Announcer (voice)  52fe4284c3a36847f8024fc5       2   \n",
       "\n",
       "         id               name  order                      profile_path  \n",
       "0        31          Tom Hanks      0  /pQFoyx7rp09CJTAb932F2g8Nlho.jpg  \n",
       "1     12898          Tim Allen      1  /uX2xVf6pMmPepxnvFWyBtjexzgY.jpg  \n",
       "2      7167        Don Rickles      2  /h5BcaDMPRVLHLDzbQavec4xfSdt.jpg  \n",
       "3     12899         Jim Varney      3  /eIo2jVVXYgjDtaHoF19Ll9vtW7h.jpg  \n",
       "4     12900      Wallace Shawn      4  /oGE6JqPP2xH4tNORKNqxbNPYi7u.jpg  \n",
       "5      7907  John Ratzenberger      5  /yGechiKWL6TJDfVE2KPSJYqdMsY.jpg  \n",
       "6      8873        Annie Potts      6  /eryXT84RL41jHSJcMy4kS3u9y6w.jpg  \n",
       "7   1116442        John Morris      7  /vYGyvK4LzeaUCoNSHtsuqJUY15M.jpg  \n",
       "8     12901    Erik von Detten      8  /twnF1ZaJ1FUNUuo6xLXwcxjayBE.jpg  \n",
       "9     12133     Laurie Metcalf      9  /unMMIT60eoBM2sN2nyR7EZ2BvvD.jpg  \n",
       "10     8655       R. Lee Ermey     10  /r8GBqFBjypLUP9VVqDqfZ7wYbSs.jpg  \n",
       "11    12903      Sarah Freeman     11                              None  \n",
       "12    37221      Penn Jillette     12  /zmAaXUdx12NRsssgHbk1T31j2x9.jpg  "
      ]
     },
     "execution_count": 18,
     "metadata": {},
     "output_type": "execute_result"
    }
   ],
   "source": [
    "# View one movies cast as DF\n",
    "pd.DataFrame(credits['cast'][0])"
   ]
  },
  {
   "cell_type": "code",
   "execution_count": 20,
   "id": "7d5067ff",
   "metadata": {},
   "outputs": [
    {
     "data": {
      "text/plain": [
       "10    2802\n",
       "8     2766\n",
       "7     2750\n",
       "6     2691\n",
       "5     2683\n",
       "9     2579\n",
       "4     2472\n",
       "15    2457\n",
       "0     2414\n",
       "11    2304\n",
       "Name: castSize, dtype: int64"
      ]
     },
     "execution_count": 20,
     "metadata": {},
     "output_type": "execute_result"
    }
   ],
   "source": [
    "# Pull number of cast members\n",
    "credits['castSize'] = credits['cast'].apply(lambda x: len(x))\n",
    "credits['castSize'].value_counts(dropna=False).head(10)"
   ]
  },
  {
   "cell_type": "code",
   "execution_count": 36,
   "id": "b0807020",
   "metadata": {},
   "outputs": [],
   "source": [
    "# Create Actor string\n",
    "def pipify(x, key):\n",
    "    cast = []\n",
    "    if not isinstance(x, list):\n",
    "        print(1)\n",
    "        return np.nan\n",
    "    if len(x) == 0:\n",
    "        print(2)\n",
    "        return np.nan\n",
    "    for i in x:\n",
    "        cast.append(i[key])\n",
    "    return \"|\".join(cast)\n",
    "\n",
    "credits['cast'] = credits['cast'].head(10).apply(lambda x: pipify(x, 'name'))\n",
    "credits['cast'].replace('', np.nan, inplace=True)"
   ]
  },
  {
   "cell_type": "code",
   "execution_count": 44,
   "id": "d612cc05",
   "metadata": {},
   "outputs": [],
   "source": [
    "# Turn string literal crew column into json dict\n",
    "credits['crew'] = credits['crew'].apply(lambda x: ast.literal_eval(x) if isinstance(x, str) else np.nan)"
   ]
  },
  {
   "cell_type": "code",
   "execution_count": 46,
   "id": "6cc30b11",
   "metadata": {},
   "outputs": [
    {
     "data": {
      "text/plain": [
       "2     6298\n",
       "1     5065\n",
       "3     5014\n",
       "4     3098\n",
       "5     2270\n",
       "7     1990\n",
       "10    1948\n",
       "8     1885\n",
       "6     1885\n",
       "9     1702\n",
       "Name: crew_size, dtype: int64"
      ]
     },
     "execution_count": 46,
     "metadata": {},
     "output_type": "execute_result"
    }
   ],
   "source": [
    "# Get crew size from json dict of crew\n",
    "credits['crew_size'] = credits['crew'].apply(lambda x: len(x))\n",
    "credits['crew_size'].value_counts(dropna=False).head(10)"
   ]
  },
  {
   "cell_type": "code",
   "execution_count": 48,
   "id": "236b9532",
   "metadata": {},
   "outputs": [],
   "source": [
    "# Get Director\n",
    "def getJob(x, job):\n",
    "    for i in x:\n",
    "        if i['job'] == job:\n",
    "            return i['name']\n",
    "    return np.nan\n",
    "        \n",
    "credits['director'] = credits['crew'].apply(lambda x: getJob(x, 'Director'))"
   ]
  },
  {
   "cell_type": "code",
   "execution_count": 53,
   "id": "57e7ffd9",
   "metadata": {},
   "outputs": [],
   "source": [
    "# Left join data into one df\n",
    "df = movies.merge(credits, how='left', left_on='id', right_on='id')"
   ]
  },
  {
   "cell_type": "code",
   "execution_count": 54,
   "id": "a2d6f7ed",
   "metadata": {},
   "outputs": [],
   "source": [
    "df.drop(columns = 'crew', inplace=True)"
   ]
  },
  {
   "cell_type": "code",
   "execution_count": 55,
   "id": "55b2ea5d",
   "metadata": {},
   "outputs": [],
   "source": [
    "df.to_csv('movies_complete.csv', index=False)"
   ]
  },
  {
   "cell_type": "code",
   "execution_count": null,
   "id": "6fc4053d",
   "metadata": {},
   "outputs": [],
   "source": []
  }
 ],
 "metadata": {
  "kernelspec": {
   "display_name": "Python 3",
   "language": "python",
   "name": "python3"
  },
  "language_info": {
   "codemirror_mode": {
    "name": "ipython",
    "version": 3
   },
   "file_extension": ".py",
   "mimetype": "text/x-python",
   "name": "python",
   "nbconvert_exporter": "python",
   "pygments_lexer": "ipython3",
   "version": "3.8.8"
  }
 },
 "nbformat": 4,
 "nbformat_minor": 5
}
